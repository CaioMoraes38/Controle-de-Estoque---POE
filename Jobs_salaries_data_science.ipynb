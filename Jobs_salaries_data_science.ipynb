{
  "metadata": {
    "kernelspec": {
      "language": "python",
      "display_name": "Python 3",
      "name": "python3"
    },
    "language_info": {
      "name": "python",
      "version": "3.10.13",
      "mimetype": "text/x-python",
      "codemirror_mode": {
        "name": "ipython",
        "version": 3
      },
      "pygments_lexer": "ipython3",
      "nbconvert_exporter": "python",
      "file_extension": ".py"
    },
    "kaggle": {
      "accelerator": "none",
      "dataSources": [
        {
          "sourceId": 7426827,
          "sourceType": "datasetVersion",
          "datasetId": 4321506
        }
      ],
      "dockerImageVersionId": 30646,
      "isInternetEnabled": true,
      "language": "python",
      "sourceType": "notebook",
      "isGpuEnabled": false
    },
    "colab": {
      "name": "Jobs_salaries_data_science",
      "provenance": [],
      "include_colab_link": true
    }
  },
  "nbformat_minor": 0,
  "nbformat": 4,
  "cells": [
    {
      "cell_type": "markdown",
      "metadata": {
        "id": "view-in-github",
        "colab_type": "text"
      },
      "source": [
        "<a href=\"https://colab.research.google.com/github/CaioMoraes38/Controle-de-Estoque---POE/blob/main/Jobs_salaries_data_science.ipynb\" target=\"_parent\"><img src=\"https://colab.research.google.com/assets/colab-badge.svg\" alt=\"Open In Colab\"/></a>"
      ]
    },
    {
      "source": [
        "\n",
        "# IMPORTANT: RUN THIS CELL IN ORDER TO IMPORT YOUR KAGGLE DATA SOURCES\n",
        "# TO THE CORRECT LOCATION (/kaggle/input) IN YOUR NOTEBOOK,\n",
        "# THEN FEEL FREE TO DELETE THIS CELL.\n",
        "# NOTE: THIS NOTEBOOK ENVIRONMENT DIFFERS FROM KAGGLE'S PYTHON\n",
        "# ENVIRONMENT SO THERE MAY BE MISSING LIBRARIES USED BY YOUR\n",
        "# NOTEBOOK.\n",
        "\n",
        "import os\n",
        "import sys\n",
        "from tempfile import NamedTemporaryFile\n",
        "from urllib.request import urlopen\n",
        "from urllib.parse import unquote, urlparse\n",
        "from urllib.error import HTTPError\n",
        "from zipfile import ZipFile\n",
        "import tarfile\n",
        "import shutil\n",
        "\n",
        "CHUNK_SIZE = 40960\n",
        "DATA_SOURCE_MAPPING = 'dataset:https%3A%2F%2Fstorage.googleapis.com%2Fkaggle-data-sets%2F4321506%2F7426827%2Fbundle%2Farchive.zip%3FX-Goog-Algorithm%3DGOOG4-RSA-SHA256%26X-Goog-Credential%3Dgcp-kaggle-com%2540kaggle-161607.iam.gserviceaccount.com%252F20240328%252Fauto%252Fstorage%252Fgoog4_request%26X-Goog-Date%3D20240328T122607Z%26X-Goog-Expires%3D259200%26X-Goog-SignedHeaders%3Dhost%26X-Goog-Signature%3D6288564f02a830852a5fa916d1373004ad536b75f58aae2cd1db24a8b85c276d0ac2685b57d2283fbc373fd56be9610bac326e92d791b22961df967984eba9b615c45ed5f0e1e293e0a6b9f18c409eb61574984f5ed8e06dc8aaa838cf5b79cdd375cc179d9b60141bdd4ddd9de30e23fb630fc42bbd03aad778f96fca3f20208b8fbda9ac9f89446d97f3d0c53be824dba257ae3285bee162e77111b27ababe0dd8db5c6231a11a90e1e4de5df0294a8c5556721b20f47e81b4a5d4e933e9100ae82e60acce182407e1e6e50dd9073a92e1e90aa728eb7af5b35f0fa216a14080e65fb91f2977a5bd2bd552a623e713b4fddcd8c540118ad061dada80e6ebe7'\n",
        "\n",
        "KAGGLE_INPUT_PATH='/kaggle/input'\n",
        "KAGGLE_WORKING_PATH='/kaggle/working'\n",
        "KAGGLE_SYMLINK='kaggle'\n",
        "\n",
        "!umount /kaggle/input/ 2> /dev/null\n",
        "shutil.rmtree('/kaggle/input', ignore_errors=True)\n",
        "os.makedirs(KAGGLE_INPUT_PATH, 0o777, exist_ok=True)\n",
        "os.makedirs(KAGGLE_WORKING_PATH, 0o777, exist_ok=True)\n",
        "\n",
        "try:\n",
        "  os.symlink(KAGGLE_INPUT_PATH, os.path.join(\"..\", 'input'), target_is_directory=True)\n",
        "except FileExistsError:\n",
        "  pass\n",
        "try:\n",
        "  os.symlink(KAGGLE_WORKING_PATH, os.path.join(\"..\", 'working'), target_is_directory=True)\n",
        "except FileExistsError:\n",
        "  pass\n",
        "\n",
        "for data_source_mapping in DATA_SOURCE_MAPPING.split(','):\n",
        "    directory, download_url_encoded = data_source_mapping.split(':')\n",
        "    download_url = unquote(download_url_encoded)\n",
        "    filename = urlparse(download_url).path\n",
        "    destination_path = os.path.join(KAGGLE_INPUT_PATH, directory)\n",
        "    try:\n",
        "        with urlopen(download_url) as fileres, NamedTemporaryFile() as tfile:\n",
        "            total_length = fileres.headers['content-length']\n",
        "            print(f'Downloading {directory}, {total_length} bytes compressed')\n",
        "            dl = 0\n",
        "            data = fileres.read(CHUNK_SIZE)\n",
        "            while len(data) > 0:\n",
        "                dl += len(data)\n",
        "                tfile.write(data)\n",
        "                done = int(50 * dl / int(total_length))\n",
        "                sys.stdout.write(f\"\\r[{'=' * done}{' ' * (50-done)}] {dl} bytes downloaded\")\n",
        "                sys.stdout.flush()\n",
        "                data = fileres.read(CHUNK_SIZE)\n",
        "            if filename.endswith('.zip'):\n",
        "              with ZipFile(tfile) as zfile:\n",
        "                zfile.extractall(destination_path)\n",
        "            else:\n",
        "              with tarfile.open(tfile.name) as tarfile:\n",
        "                tarfile.extractall(destination_path)\n",
        "            print(f'\\nDownloaded and uncompressed: {directory}')\n",
        "    except HTTPError as e:\n",
        "        print(f'Failed to load (likely expired) {download_url} to path {destination_path}')\n",
        "        continue\n",
        "    except OSError as e:\n",
        "        print(f'Failed to load {download_url} to path {destination_path}')\n",
        "        continue\n",
        "\n",
        "print('Data source import complete.')\n"
      ],
      "metadata": {
        "colab": {
          "base_uri": "https://localhost:8080/"
        },
        "id": "ftvW8yC-BYqu",
        "outputId": "63455f47-cbc5-4dba-8e26-a4c17da70714"
      },
      "cell_type": "code",
      "outputs": [
        {
          "output_type": "stream",
          "name": "stdout",
          "text": [
            "Downloading dataset, 77962 bytes compressed\n",
            "[==================================================] 77962 bytes downloaded\n",
            "Downloaded and uncompressed: dataset\n",
            "Data source import complete.\n"
          ]
        }
      ],
      "execution_count": 1
    },
    {
      "cell_type": "code",
      "source": [
        "# This Python 3 environment comes with many helpful analytics libraries installed\n",
        "# It is defined by the kaggle/python Docker image: https://github.com/kaggle/docker-python\n",
        "# For example, here's several helpful packages to load\n",
        "\n",
        "import numpy as np # linear algebra\n",
        "import pandas as pd # data processing, CSV file I/O (e.g. pd.read_csv)\n",
        "\n",
        "# Input data files are available in the read-only \"../input/\" directory\n",
        "# For example, running this (by clicking run or pressing Shift+Enter) will list all files under the input directory\n",
        "\n",
        "import os\n",
        "for dirname, _, filenames in os.walk('/kaggle/input'):\n",
        "    for filename in filenames:\n",
        "        print(os.path.join(dirname, filename))\n",
        "\n",
        "# You can write up to 20GB to the current directory (/kaggle/working/) that gets preserved as output when you create a version using \"Save & Run All\"\n",
        "# You can also write temporary files to /kaggle/temp/, but they won't be saved outside of the current session"
      ],
      "metadata": {
        "_uuid": "8f2839f25d086af736a60e9eeb907d3b93b6e0e5",
        "_cell_guid": "b1076dfc-b9ad-4769-8c92-a6c4dae69d19",
        "execution": {
          "iopub.status.busy": "2024-02-13T08:16:18.813667Z",
          "iopub.execute_input": "2024-02-13T08:16:18.814057Z",
          "iopub.status.idle": "2024-02-13T08:16:19.924055Z",
          "shell.execute_reply.started": "2024-02-13T08:16:18.814024Z",
          "shell.execute_reply": "2024-02-13T08:16:19.922875Z"
        },
        "trusted": true,
        "colab": {
          "base_uri": "https://localhost:8080/"
        },
        "id": "eDB4wiuABYq0",
        "outputId": "be2b0e5a-ce88-4a0e-81f3-b7622b6915fd"
      },
      "execution_count": 2,
      "outputs": [
        {
          "output_type": "stream",
          "name": "stdout",
          "text": [
            "/kaggle/input/dataset/Dataset.csv\n"
          ]
        }
      ]
    },
    {
      "cell_type": "code",
      "source": [
        "import numpy as np\n",
        "import pandas as pd\n",
        "import matplotlib.pyplot as plt\n",
        "import seaborn as sns\n",
        "import warnings\n",
        "warnings.filterwarnings(\"ignore\")\n",
        "plt.rcParams['figure.figsize']=[10,5]"
      ],
      "metadata": {
        "execution": {
          "iopub.status.busy": "2024-02-13T08:16:19.926178Z",
          "iopub.execute_input": "2024-02-13T08:16:19.92704Z",
          "iopub.status.idle": "2024-02-13T08:16:21.434788Z",
          "shell.execute_reply.started": "2024-02-13T08:16:19.927002Z",
          "shell.execute_reply": "2024-02-13T08:16:21.433216Z"
        },
        "trusted": true,
        "id": "GE75h7kcBYq1"
      },
      "execution_count": 3,
      "outputs": []
    },
    {
      "cell_type": "code",
      "source": [
        "df=pd.read_csv('/kaggle/input/dataset/Dataset.csv')\n",
        "df.head()"
      ],
      "metadata": {
        "execution": {
          "iopub.status.busy": "2024-02-13T08:16:33.383558Z",
          "iopub.execute_input": "2024-02-13T08:16:33.384061Z",
          "iopub.status.idle": "2024-02-13T08:16:33.457422Z",
          "shell.execute_reply.started": "2024-02-13T08:16:33.384023Z",
          "shell.execute_reply": "2024-02-13T08:16:33.456151Z"
        },
        "trusted": true,
        "colab": {
          "base_uri": "https://localhost:8080/",
          "height": 206
        },
        "id": "9BzZre3WBYq2",
        "outputId": "f8929761-f184-41df-f3d1-8966244d8074"
      },
      "execution_count": 4,
      "outputs": [
        {
          "output_type": "execute_result",
          "data": {
            "text/plain": [
              "   work_year             job_title                    job_category  \\\n",
              "0       2023  Data DevOps Engineer                Data Engineering   \n",
              "1       2023        Data Architect  Data Architecture and Modeling   \n",
              "2       2023        Data Architect  Data Architecture and Modeling   \n",
              "3       2023        Data Scientist       Data Science and Research   \n",
              "4       2023        Data Scientist       Data Science and Research   \n",
              "\n",
              "  salary_currency  salary  salary_in_usd employee_residence experience_level  \\\n",
              "0             EUR   88000          95012            Germany        Mid-level   \n",
              "1             USD  186000         186000      United States           Senior   \n",
              "2             USD   81800          81800      United States           Senior   \n",
              "3             USD  212000         212000      United States           Senior   \n",
              "4             USD   93300          93300      United States           Senior   \n",
              "\n",
              "  employment_type work_setting company_location company_size  \n",
              "0       Full-time       Hybrid          Germany            L  \n",
              "1       Full-time    In-person    United States            M  \n",
              "2       Full-time    In-person    United States            M  \n",
              "3       Full-time    In-person    United States            M  \n",
              "4       Full-time    In-person    United States            M  "
            ],
            "text/html": [
              "\n",
              "  <div id=\"df-167bbc83-5daf-4fc0-b6b7-cd8dea78bca7\" class=\"colab-df-container\">\n",
              "    <div>\n",
              "<style scoped>\n",
              "    .dataframe tbody tr th:only-of-type {\n",
              "        vertical-align: middle;\n",
              "    }\n",
              "\n",
              "    .dataframe tbody tr th {\n",
              "        vertical-align: top;\n",
              "    }\n",
              "\n",
              "    .dataframe thead th {\n",
              "        text-align: right;\n",
              "    }\n",
              "</style>\n",
              "<table border=\"1\" class=\"dataframe\">\n",
              "  <thead>\n",
              "    <tr style=\"text-align: right;\">\n",
              "      <th></th>\n",
              "      <th>work_year</th>\n",
              "      <th>job_title</th>\n",
              "      <th>job_category</th>\n",
              "      <th>salary_currency</th>\n",
              "      <th>salary</th>\n",
              "      <th>salary_in_usd</th>\n",
              "      <th>employee_residence</th>\n",
              "      <th>experience_level</th>\n",
              "      <th>employment_type</th>\n",
              "      <th>work_setting</th>\n",
              "      <th>company_location</th>\n",
              "      <th>company_size</th>\n",
              "    </tr>\n",
              "  </thead>\n",
              "  <tbody>\n",
              "    <tr>\n",
              "      <th>0</th>\n",
              "      <td>2023</td>\n",
              "      <td>Data DevOps Engineer</td>\n",
              "      <td>Data Engineering</td>\n",
              "      <td>EUR</td>\n",
              "      <td>88000</td>\n",
              "      <td>95012</td>\n",
              "      <td>Germany</td>\n",
              "      <td>Mid-level</td>\n",
              "      <td>Full-time</td>\n",
              "      <td>Hybrid</td>\n",
              "      <td>Germany</td>\n",
              "      <td>L</td>\n",
              "    </tr>\n",
              "    <tr>\n",
              "      <th>1</th>\n",
              "      <td>2023</td>\n",
              "      <td>Data Architect</td>\n",
              "      <td>Data Architecture and Modeling</td>\n",
              "      <td>USD</td>\n",
              "      <td>186000</td>\n",
              "      <td>186000</td>\n",
              "      <td>United States</td>\n",
              "      <td>Senior</td>\n",
              "      <td>Full-time</td>\n",
              "      <td>In-person</td>\n",
              "      <td>United States</td>\n",
              "      <td>M</td>\n",
              "    </tr>\n",
              "    <tr>\n",
              "      <th>2</th>\n",
              "      <td>2023</td>\n",
              "      <td>Data Architect</td>\n",
              "      <td>Data Architecture and Modeling</td>\n",
              "      <td>USD</td>\n",
              "      <td>81800</td>\n",
              "      <td>81800</td>\n",
              "      <td>United States</td>\n",
              "      <td>Senior</td>\n",
              "      <td>Full-time</td>\n",
              "      <td>In-person</td>\n",
              "      <td>United States</td>\n",
              "      <td>M</td>\n",
              "    </tr>\n",
              "    <tr>\n",
              "      <th>3</th>\n",
              "      <td>2023</td>\n",
              "      <td>Data Scientist</td>\n",
              "      <td>Data Science and Research</td>\n",
              "      <td>USD</td>\n",
              "      <td>212000</td>\n",
              "      <td>212000</td>\n",
              "      <td>United States</td>\n",
              "      <td>Senior</td>\n",
              "      <td>Full-time</td>\n",
              "      <td>In-person</td>\n",
              "      <td>United States</td>\n",
              "      <td>M</td>\n",
              "    </tr>\n",
              "    <tr>\n",
              "      <th>4</th>\n",
              "      <td>2023</td>\n",
              "      <td>Data Scientist</td>\n",
              "      <td>Data Science and Research</td>\n",
              "      <td>USD</td>\n",
              "      <td>93300</td>\n",
              "      <td>93300</td>\n",
              "      <td>United States</td>\n",
              "      <td>Senior</td>\n",
              "      <td>Full-time</td>\n",
              "      <td>In-person</td>\n",
              "      <td>United States</td>\n",
              "      <td>M</td>\n",
              "    </tr>\n",
              "  </tbody>\n",
              "</table>\n",
              "</div>\n",
              "    <div class=\"colab-df-buttons\">\n",
              "\n",
              "  <div class=\"colab-df-container\">\n",
              "    <button class=\"colab-df-convert\" onclick=\"convertToInteractive('df-167bbc83-5daf-4fc0-b6b7-cd8dea78bca7')\"\n",
              "            title=\"Convert this dataframe to an interactive table.\"\n",
              "            style=\"display:none;\">\n",
              "\n",
              "  <svg xmlns=\"http://www.w3.org/2000/svg\" height=\"24px\" viewBox=\"0 -960 960 960\">\n",
              "    <path d=\"M120-120v-720h720v720H120Zm60-500h600v-160H180v160Zm220 220h160v-160H400v160Zm0 220h160v-160H400v160ZM180-400h160v-160H180v160Zm440 0h160v-160H620v160ZM180-180h160v-160H180v160Zm440 0h160v-160H620v160Z\"/>\n",
              "  </svg>\n",
              "    </button>\n",
              "\n",
              "  <style>\n",
              "    .colab-df-container {\n",
              "      display:flex;\n",
              "      gap: 12px;\n",
              "    }\n",
              "\n",
              "    .colab-df-convert {\n",
              "      background-color: #E8F0FE;\n",
              "      border: none;\n",
              "      border-radius: 50%;\n",
              "      cursor: pointer;\n",
              "      display: none;\n",
              "      fill: #1967D2;\n",
              "      height: 32px;\n",
              "      padding: 0 0 0 0;\n",
              "      width: 32px;\n",
              "    }\n",
              "\n",
              "    .colab-df-convert:hover {\n",
              "      background-color: #E2EBFA;\n",
              "      box-shadow: 0px 1px 2px rgba(60, 64, 67, 0.3), 0px 1px 3px 1px rgba(60, 64, 67, 0.15);\n",
              "      fill: #174EA6;\n",
              "    }\n",
              "\n",
              "    .colab-df-buttons div {\n",
              "      margin-bottom: 4px;\n",
              "    }\n",
              "\n",
              "    [theme=dark] .colab-df-convert {\n",
              "      background-color: #3B4455;\n",
              "      fill: #D2E3FC;\n",
              "    }\n",
              "\n",
              "    [theme=dark] .colab-df-convert:hover {\n",
              "      background-color: #434B5C;\n",
              "      box-shadow: 0px 1px 3px 1px rgba(0, 0, 0, 0.15);\n",
              "      filter: drop-shadow(0px 1px 2px rgba(0, 0, 0, 0.3));\n",
              "      fill: #FFFFFF;\n",
              "    }\n",
              "  </style>\n",
              "\n",
              "    <script>\n",
              "      const buttonEl =\n",
              "        document.querySelector('#df-167bbc83-5daf-4fc0-b6b7-cd8dea78bca7 button.colab-df-convert');\n",
              "      buttonEl.style.display =\n",
              "        google.colab.kernel.accessAllowed ? 'block' : 'none';\n",
              "\n",
              "      async function convertToInteractive(key) {\n",
              "        const element = document.querySelector('#df-167bbc83-5daf-4fc0-b6b7-cd8dea78bca7');\n",
              "        const dataTable =\n",
              "          await google.colab.kernel.invokeFunction('convertToInteractive',\n",
              "                                                    [key], {});\n",
              "        if (!dataTable) return;\n",
              "\n",
              "        const docLinkHtml = 'Like what you see? Visit the ' +\n",
              "          '<a target=\"_blank\" href=https://colab.research.google.com/notebooks/data_table.ipynb>data table notebook</a>'\n",
              "          + ' to learn more about interactive tables.';\n",
              "        element.innerHTML = '';\n",
              "        dataTable['output_type'] = 'display_data';\n",
              "        await google.colab.output.renderOutput(dataTable, element);\n",
              "        const docLink = document.createElement('div');\n",
              "        docLink.innerHTML = docLinkHtml;\n",
              "        element.appendChild(docLink);\n",
              "      }\n",
              "    </script>\n",
              "  </div>\n",
              "\n",
              "\n",
              "<div id=\"df-5f4cc317-bd85-476c-9fdd-0f05fe6d1587\">\n",
              "  <button class=\"colab-df-quickchart\" onclick=\"quickchart('df-5f4cc317-bd85-476c-9fdd-0f05fe6d1587')\"\n",
              "            title=\"Suggest charts\"\n",
              "            style=\"display:none;\">\n",
              "\n",
              "<svg xmlns=\"http://www.w3.org/2000/svg\" height=\"24px\"viewBox=\"0 0 24 24\"\n",
              "     width=\"24px\">\n",
              "    <g>\n",
              "        <path d=\"M19 3H5c-1.1 0-2 .9-2 2v14c0 1.1.9 2 2 2h14c1.1 0 2-.9 2-2V5c0-1.1-.9-2-2-2zM9 17H7v-7h2v7zm4 0h-2V7h2v10zm4 0h-2v-4h2v4z\"/>\n",
              "    </g>\n",
              "</svg>\n",
              "  </button>\n",
              "\n",
              "<style>\n",
              "  .colab-df-quickchart {\n",
              "      --bg-color: #E8F0FE;\n",
              "      --fill-color: #1967D2;\n",
              "      --hover-bg-color: #E2EBFA;\n",
              "      --hover-fill-color: #174EA6;\n",
              "      --disabled-fill-color: #AAA;\n",
              "      --disabled-bg-color: #DDD;\n",
              "  }\n",
              "\n",
              "  [theme=dark] .colab-df-quickchart {\n",
              "      --bg-color: #3B4455;\n",
              "      --fill-color: #D2E3FC;\n",
              "      --hover-bg-color: #434B5C;\n",
              "      --hover-fill-color: #FFFFFF;\n",
              "      --disabled-bg-color: #3B4455;\n",
              "      --disabled-fill-color: #666;\n",
              "  }\n",
              "\n",
              "  .colab-df-quickchart {\n",
              "    background-color: var(--bg-color);\n",
              "    border: none;\n",
              "    border-radius: 50%;\n",
              "    cursor: pointer;\n",
              "    display: none;\n",
              "    fill: var(--fill-color);\n",
              "    height: 32px;\n",
              "    padding: 0;\n",
              "    width: 32px;\n",
              "  }\n",
              "\n",
              "  .colab-df-quickchart:hover {\n",
              "    background-color: var(--hover-bg-color);\n",
              "    box-shadow: 0 1px 2px rgba(60, 64, 67, 0.3), 0 1px 3px 1px rgba(60, 64, 67, 0.15);\n",
              "    fill: var(--button-hover-fill-color);\n",
              "  }\n",
              "\n",
              "  .colab-df-quickchart-complete:disabled,\n",
              "  .colab-df-quickchart-complete:disabled:hover {\n",
              "    background-color: var(--disabled-bg-color);\n",
              "    fill: var(--disabled-fill-color);\n",
              "    box-shadow: none;\n",
              "  }\n",
              "\n",
              "  .colab-df-spinner {\n",
              "    border: 2px solid var(--fill-color);\n",
              "    border-color: transparent;\n",
              "    border-bottom-color: var(--fill-color);\n",
              "    animation:\n",
              "      spin 1s steps(1) infinite;\n",
              "  }\n",
              "\n",
              "  @keyframes spin {\n",
              "    0% {\n",
              "      border-color: transparent;\n",
              "      border-bottom-color: var(--fill-color);\n",
              "      border-left-color: var(--fill-color);\n",
              "    }\n",
              "    20% {\n",
              "      border-color: transparent;\n",
              "      border-left-color: var(--fill-color);\n",
              "      border-top-color: var(--fill-color);\n",
              "    }\n",
              "    30% {\n",
              "      border-color: transparent;\n",
              "      border-left-color: var(--fill-color);\n",
              "      border-top-color: var(--fill-color);\n",
              "      border-right-color: var(--fill-color);\n",
              "    }\n",
              "    40% {\n",
              "      border-color: transparent;\n",
              "      border-right-color: var(--fill-color);\n",
              "      border-top-color: var(--fill-color);\n",
              "    }\n",
              "    60% {\n",
              "      border-color: transparent;\n",
              "      border-right-color: var(--fill-color);\n",
              "    }\n",
              "    80% {\n",
              "      border-color: transparent;\n",
              "      border-right-color: var(--fill-color);\n",
              "      border-bottom-color: var(--fill-color);\n",
              "    }\n",
              "    90% {\n",
              "      border-color: transparent;\n",
              "      border-bottom-color: var(--fill-color);\n",
              "    }\n",
              "  }\n",
              "</style>\n",
              "\n",
              "  <script>\n",
              "    async function quickchart(key) {\n",
              "      const quickchartButtonEl =\n",
              "        document.querySelector('#' + key + ' button');\n",
              "      quickchartButtonEl.disabled = true;  // To prevent multiple clicks.\n",
              "      quickchartButtonEl.classList.add('colab-df-spinner');\n",
              "      try {\n",
              "        const charts = await google.colab.kernel.invokeFunction(\n",
              "            'suggestCharts', [key], {});\n",
              "      } catch (error) {\n",
              "        console.error('Error during call to suggestCharts:', error);\n",
              "      }\n",
              "      quickchartButtonEl.classList.remove('colab-df-spinner');\n",
              "      quickchartButtonEl.classList.add('colab-df-quickchart-complete');\n",
              "    }\n",
              "    (() => {\n",
              "      let quickchartButtonEl =\n",
              "        document.querySelector('#df-5f4cc317-bd85-476c-9fdd-0f05fe6d1587 button');\n",
              "      quickchartButtonEl.style.display =\n",
              "        google.colab.kernel.accessAllowed ? 'block' : 'none';\n",
              "    })();\n",
              "  </script>\n",
              "</div>\n",
              "    </div>\n",
              "  </div>\n"
            ],
            "application/vnd.google.colaboratory.intrinsic+json": {
              "type": "dataframe",
              "variable_name": "df",
              "summary": "{\n  \"name\": \"df\",\n  \"rows\": 9355,\n  \"fields\": [\n    {\n      \"column\": \"work_year\",\n      \"properties\": {\n        \"dtype\": \"number\",\n        \"std\": 0,\n        \"min\": 2020,\n        \"max\": 2023,\n        \"num_unique_values\": 4,\n        \"samples\": [\n          2022,\n          2021,\n          2023\n        ],\n        \"semantic_type\": \"\",\n        \"description\": \"\"\n      }\n    },\n    {\n      \"column\": \"job_title\",\n      \"properties\": {\n        \"dtype\": \"category\",\n        \"num_unique_values\": 125,\n        \"samples\": [\n          \"AI Engineer\",\n          \"Data Management Specialist\",\n          \"Business Intelligence Manager\"\n        ],\n        \"semantic_type\": \"\",\n        \"description\": \"\"\n      }\n    },\n    {\n      \"column\": \"job_category\",\n      \"properties\": {\n        \"dtype\": \"category\",\n        \"num_unique_values\": 10,\n        \"samples\": [\n          \"Data Management and Strategy\",\n          \"Data Architecture and Modeling\",\n          \"Leadership and Management\"\n        ],\n        \"semantic_type\": \"\",\n        \"description\": \"\"\n      }\n    },\n    {\n      \"column\": \"salary_currency\",\n      \"properties\": {\n        \"dtype\": \"category\",\n        \"num_unique_values\": 11,\n        \"samples\": [\n          \"PLN\",\n          \"EUR\",\n          \"SGD\"\n        ],\n        \"semantic_type\": \"\",\n        \"description\": \"\"\n      }\n    },\n    {\n      \"column\": \"salary\",\n      \"properties\": {\n        \"dtype\": \"number\",\n        \"std\": 63608,\n        \"min\": 14000,\n        \"max\": 450000,\n        \"num_unique_values\": 1507,\n        \"samples\": [\n          205218,\n          201450,\n          119636\n        ],\n        \"semantic_type\": \"\",\n        \"description\": \"\"\n      }\n    },\n    {\n      \"column\": \"salary_in_usd\",\n      \"properties\": {\n        \"dtype\": \"number\",\n        \"std\": 63177,\n        \"min\": 15000,\n        \"max\": 450000,\n        \"num_unique_values\": 1786,\n        \"samples\": [\n          222000,\n          266450,\n          239748\n        ],\n        \"semantic_type\": \"\",\n        \"description\": \"\"\n      }\n    },\n    {\n      \"column\": \"employee_residence\",\n      \"properties\": {\n        \"dtype\": \"category\",\n        \"num_unique_values\": 83,\n        \"samples\": [\n          \"Turkey\",\n          \"Germany\",\n          \"India\"\n        ],\n        \"semantic_type\": \"\",\n        \"description\": \"\"\n      }\n    },\n    {\n      \"column\": \"experience_level\",\n      \"properties\": {\n        \"dtype\": \"category\",\n        \"num_unique_values\": 4,\n        \"samples\": [\n          \"Senior\",\n          \"Entry-level\",\n          \"Mid-level\"\n        ],\n        \"semantic_type\": \"\",\n        \"description\": \"\"\n      }\n    },\n    {\n      \"column\": \"employment_type\",\n      \"properties\": {\n        \"dtype\": \"category\",\n        \"num_unique_values\": 4,\n        \"samples\": [\n          \"Part-time\",\n          \"Freelance\",\n          \"Full-time\"\n        ],\n        \"semantic_type\": \"\",\n        \"description\": \"\"\n      }\n    },\n    {\n      \"column\": \"work_setting\",\n      \"properties\": {\n        \"dtype\": \"category\",\n        \"num_unique_values\": 3,\n        \"samples\": [\n          \"Hybrid\",\n          \"In-person\",\n          \"Remote\"\n        ],\n        \"semantic_type\": \"\",\n        \"description\": \"\"\n      }\n    },\n    {\n      \"column\": \"company_location\",\n      \"properties\": {\n        \"dtype\": \"category\",\n        \"num_unique_values\": 70,\n        \"samples\": [\n          \"Mauritius\",\n          \"Germany\",\n          \"Bosnia and Herzegovina\"\n        ],\n        \"semantic_type\": \"\",\n        \"description\": \"\"\n      }\n    },\n    {\n      \"column\": \"company_size\",\n      \"properties\": {\n        \"dtype\": \"category\",\n        \"num_unique_values\": 3,\n        \"samples\": [\n          \"L\",\n          \"M\",\n          \"S\"\n        ],\n        \"semantic_type\": \"\",\n        \"description\": \"\"\n      }\n    }\n  ]\n}"
            }
          },
          "metadata": {},
          "execution_count": 4
        }
      ]
    },
    {
      "source": [
        "# @title experience_level\n",
        "\n",
        "from matplotlib import pyplot as plt\n",
        "import seaborn as sns\n",
        "df.groupby('experience_level').size().plot(kind='barh', color=sns.palettes.mpl_palette('Dark2'))\n",
        "plt.gca().spines[['top', 'right',]].set_visible(False)"
      ],
      "cell_type": "code",
      "execution_count": 7,
      "outputs": [
        {
          "output_type": "display_data",
          "data": {
            "text/plain": [
              "<Figure size 1000x500 with 1 Axes>"
            ],
            "image/png": "[encoded data removed]"
          },
          "metadata": {}
        }
      ],
      "metadata": {
        "cellView": "form",
        "colab": {
          "base_uri": "https://localhost:8080/",
          "height": 445
        },
        "id": "F8UrYwoqB2YE",
        "outputId": "f3200125-9dfc-47c3-dc8e-6cfcf5279672"
      }
    },
    {
      "source": [
        "# @title salary\n",
        "\n",
        "from matplotlib import pyplot as plt\n",
        "df['salary'].plot(kind='hist', bins=20, title='salary')\n",
        "plt.gca().spines[['top', 'right',]].set_visible(False)"
      ],
      "cell_type": "code",
      "execution_count": 6,
      "outputs": [
        {
          "output_type": "display_data",
          "data": {
            "text/plain": [
              "<Figure size 1000x500 with 1 Axes>"
            ],
            "image/png": "[encoded data removed]"
          },
          "metadata": {}
        }
      ],
      "metadata": {
        "cellView": "form",
        "colab": {
          "base_uri": "https://localhost:8080/",
          "height": 468
        },
        "id": "RaWt_mfVBxfM",
        "outputId": "5ee139d4-231e-4351-9ab9-01639f1beaf9"
      }
    },
    {
      "source": [
        "# @title work_year\n",
        "\n",
        "from matplotlib import pyplot as plt\n",
        "df['work_year'].plot(kind='hist', bins=20, title='work_year')\n",
        "plt.gca().spines[['top', 'right',]].set_visible(False)"
      ],
      "cell_type": "code",
      "execution_count": 5,
      "outputs": [
        {
          "output_type": "display_data",
          "data": {
            "text/plain": [
              "<Figure size 1000x500 with 1 Axes>"
            ],
            "image/png": "[encoded data removed]"
          },
          "metadata": {}
        }
      ],
      "metadata": {
        "cellView": "form",
        "colab": {
          "base_uri": "https://localhost:8080/",
          "height": 468
        },
        "id": "up6-8ErRBwD8",
        "outputId": "27785bb8-cc41-42b0-998a-273df23a08e3"
      }
    },
    {
      "cell_type": "code",
      "source": [
        "df.shape"
      ],
      "metadata": {
        "execution": {
          "iopub.status.busy": "2024-02-13T08:16:40.948257Z",
          "iopub.execute_input": "2024-02-13T08:16:40.948635Z",
          "iopub.status.idle": "2024-02-13T08:16:40.955144Z",
          "shell.execute_reply.started": "2024-02-13T08:16:40.948603Z",
          "shell.execute_reply": "2024-02-13T08:16:40.954025Z"
        },
        "trusted": true,
        "colab": {
          "base_uri": "https://localhost:8080/"
        },
        "id": "sGnxB0-IBYq2",
        "outputId": "1427fed4-078b-42c2-9e65-37e67e864329"
      },
      "execution_count": 8,
      "outputs": [
        {
          "output_type": "execute_result",
          "data": {
            "text/plain": [
              "(9355, 12)"
            ]
          },
          "metadata": {},
          "execution_count": 8
        }
      ]
    },
    {
      "cell_type": "code",
      "source": [
        "df.info()"
      ],
      "metadata": {
        "execution": {
          "iopub.status.busy": "2024-02-13T08:16:50.564649Z",
          "iopub.execute_input": "2024-02-13T08:16:50.565003Z",
          "iopub.status.idle": "2024-02-13T08:16:50.59588Z",
          "shell.execute_reply.started": "2024-02-13T08:16:50.564975Z",
          "shell.execute_reply": "2024-02-13T08:16:50.594703Z"
        },
        "trusted": true,
        "colab": {
          "base_uri": "https://localhost:8080/"
        },
        "id": "xOzJOQ9WBYq3",
        "outputId": "f6859873-0389-468d-d67c-ea5604cc4ccb"
      },
      "execution_count": 9,
      "outputs": [
        {
          "output_type": "stream",
          "name": "stdout",
          "text": [
            "<class 'pandas.core.frame.DataFrame'>\n",
            "RangeIndex: 9355 entries, 0 to 9354\n",
            "Data columns (total 12 columns):\n",
            " #   Column              Non-Null Count  Dtype \n",
            "---  ------              --------------  ----- \n",
            " 0   work_year           9355 non-null   int64 \n",
            " 1   job_title           9355 non-null   object\n",
            " 2   job_category        9355 non-null   object\n",
            " 3   salary_currency     9355 non-null   object\n",
            " 4   salary              9355 non-null   int64 \n",
            " 5   salary_in_usd       9355 non-null   int64 \n",
            " 6   employee_residence  9355 non-null   object\n",
            " 7   experience_level    9355 non-null   object\n",
            " 8   employment_type     9355 non-null   object\n",
            " 9   work_setting        9355 non-null   object\n",
            " 10  company_location    9355 non-null   object\n",
            " 11  company_size        9355 non-null   object\n",
            "dtypes: int64(3), object(9)\n",
            "memory usage: 877.2+ KB\n"
          ]
        }
      ]
    },
    {
      "cell_type": "code",
      "source": [
        "df.isnull().sum()"
      ],
      "metadata": {
        "execution": {
          "iopub.status.busy": "2024-02-13T08:16:58.970049Z",
          "iopub.execute_input": "2024-02-13T08:16:58.970452Z",
          "iopub.status.idle": "2024-02-13T08:16:58.989279Z",
          "shell.execute_reply.started": "2024-02-13T08:16:58.970418Z",
          "shell.execute_reply": "2024-02-13T08:16:58.988162Z"
        },
        "trusted": true,
        "colab": {
          "base_uri": "https://localhost:8080/"
        },
        "id": "fRVYtJZKBYq3",
        "outputId": "fef1cdef-6b2b-44cd-cfa9-173fdc0f1895"
      },
      "execution_count": 10,
      "outputs": [
        {
          "output_type": "execute_result",
          "data": {
            "text/plain": [
              "work_year             0\n",
              "job_title             0\n",
              "job_category          0\n",
              "salary_currency       0\n",
              "salary                0\n",
              "salary_in_usd         0\n",
              "employee_residence    0\n",
              "experience_level      0\n",
              "employment_type       0\n",
              "work_setting          0\n",
              "company_location      0\n",
              "company_size          0\n",
              "dtype: int64"
            ]
          },
          "metadata": {},
          "execution_count": 10
        }
      ]
    },
    {
      "cell_type": "code",
      "source": [
        "df.nunique()"
      ],
      "metadata": {
        "execution": {
          "iopub.status.busy": "2024-02-13T08:17:03.4902Z",
          "iopub.execute_input": "2024-02-13T08:17:03.490599Z",
          "iopub.status.idle": "2024-02-13T08:17:03.509191Z",
          "shell.execute_reply.started": "2024-02-13T08:17:03.49056Z",
          "shell.execute_reply": "2024-02-13T08:17:03.508136Z"
        },
        "trusted": true,
        "colab": {
          "base_uri": "https://localhost:8080/"
        },
        "id": "oVs-TE86BYq4",
        "outputId": "0e6c4931-e3e7-4af4-d644-a9f3b8a9b421"
      },
      "execution_count": 11,
      "outputs": [
        {
          "output_type": "execute_result",
          "data": {
            "text/plain": [
              "work_year                4\n",
              "job_title              125\n",
              "job_category            10\n",
              "salary_currency         11\n",
              "salary                1507\n",
              "salary_in_usd         1786\n",
              "employee_residence      83\n",
              "experience_level         4\n",
              "employment_type          4\n",
              "work_setting             3\n",
              "company_location        70\n",
              "company_size             3\n",
              "dtype: int64"
            ]
          },
          "metadata": {},
          "execution_count": 11
        }
      ]
    },
    {
      "cell_type": "code",
      "source": [
        "cat=df.select_dtypes(include='object')\n",
        "cat.columns"
      ],
      "metadata": {
        "execution": {
          "iopub.status.busy": "2024-02-13T08:17:37.760074Z",
          "iopub.execute_input": "2024-02-13T08:17:37.76049Z",
          "iopub.status.idle": "2024-02-13T08:17:37.768587Z",
          "shell.execute_reply.started": "2024-02-13T08:17:37.76045Z",
          "shell.execute_reply": "2024-02-13T08:17:37.767608Z"
        },
        "trusted": true,
        "colab": {
          "base_uri": "https://localhost:8080/"
        },
        "id": "3n5DkGyABYq4",
        "outputId": "1b426e5d-8acb-484c-b3cb-fee95a3ac76a"
      },
      "execution_count": 12,
      "outputs": [
        {
          "output_type": "execute_result",
          "data": {
            "text/plain": [
              "Index(['job_title', 'job_category', 'salary_currency', 'employee_residence',\n",
              "       'experience_level', 'employment_type', 'work_setting',\n",
              "       'company_location', 'company_size'],\n",
              "      dtype='object')"
            ]
          },
          "metadata": {},
          "execution_count": 12
        }
      ]
    },
    {
      "cell_type": "code",
      "source": [
        "num=df.select_dtypes(include=np.number)\n",
        "num.columns"
      ],
      "metadata": {
        "execution": {
          "iopub.status.busy": "2024-02-13T08:17:55.886553Z",
          "iopub.execute_input": "2024-02-13T08:17:55.886929Z",
          "iopub.status.idle": "2024-02-13T08:17:55.895237Z",
          "shell.execute_reply.started": "2024-02-13T08:17:55.886901Z",
          "shell.execute_reply": "2024-02-13T08:17:55.894039Z"
        },
        "trusted": true,
        "colab": {
          "base_uri": "https://localhost:8080/"
        },
        "id": "k92wE7VwBYq5",
        "outputId": "015e59de-6a11-471e-8ebd-e2c3ba948259"
      },
      "execution_count": 13,
      "outputs": [
        {
          "output_type": "execute_result",
          "data": {
            "text/plain": [
              "Index(['work_year', 'salary', 'salary_in_usd'], dtype='object')"
            ]
          },
          "metadata": {},
          "execution_count": 13
        }
      ]
    },
    {
      "cell_type": "code",
      "source": [
        "for i in cat.columns:\n",
        "    print(f\"The no.of unique values in {i.upper()} is {cat[i].nunique()} which are:\\n {cat[i].unique()}\\n\")"
      ],
      "metadata": {
        "execution": {
          "iopub.status.busy": "2024-02-13T08:19:23.484489Z",
          "iopub.execute_input": "2024-02-13T08:19:23.484921Z",
          "iopub.status.idle": "2024-02-13T08:19:23.505629Z",
          "shell.execute_reply.started": "2024-02-13T08:19:23.484888Z",
          "shell.execute_reply": "2024-02-13T08:19:23.504148Z"
        },
        "trusted": true,
        "colab": {
          "base_uri": "https://localhost:8080/"
        },
        "id": "H1BfvuMgBYq5",
        "outputId": "f381b71f-1251-46e7-800e-5f797f94d077"
      },
      "execution_count": 14,
      "outputs": [
        {
          "output_type": "stream",
          "name": "stdout",
          "text": [
            "The no.of unique values in JOB_TITLE is 125 which are:\n",
            " ['Data DevOps Engineer' 'Data Architect' 'Data Scientist'\n",
            " 'Machine Learning Researcher' 'Data Engineer' 'Machine Learning Engineer'\n",
            " 'Data Analyst' 'Analytics Engineer' 'Applied Scientist' 'BI Developer'\n",
            " 'Business Intelligence Engineer' 'Research Scientist' 'Research Analyst'\n",
            " 'Research Engineer' 'Data Science Engineer' 'Data Quality Analyst'\n",
            " 'Data Product Manager' 'Machine Learning Scientist' 'AI Engineer'\n",
            " 'MLOps Engineer' 'Deep Learning Engineer' 'Data Modeler'\n",
            " 'Data Product Owner' 'Data Science Consultant'\n",
            " 'Business Intelligence Analyst' 'AI Developer' 'Data Manager'\n",
            " 'ML Engineer' 'Data Science Director' 'Head of Data' 'BI Analyst'\n",
            " 'Data Management Analyst' 'Machine Learning Modeler' 'Data Specialist'\n",
            " 'BI Data Analyst' 'Data Integration Engineer'\n",
            " 'Business Intelligence Manager' 'Data Integration Specialist'\n",
            " 'Data Science Practitioner' 'Business Intelligence Developer'\n",
            " 'AI Research Engineer' 'Data Lead' 'Data Management Specialist'\n",
            " 'AI Architect' 'Data Science Manager' 'Data Strategist'\n",
            " 'Business Intelligence Specialist'\n",
            " 'Machine Learning Infrastructure Engineer' 'Data Quality Engineer'\n",
            " 'Director of Data Science' 'Business Data Analyst' 'Decision Scientist'\n",
            " 'Financial Data Analyst' 'Data Strategy Manager'\n",
            " 'Computer Vision Engineer' 'Data Visualization Specialist'\n",
            " 'Insight Analyst' 'Data Visualization Engineer' 'ETL Developer'\n",
            " 'Data Analytics Manager' 'Azure Data Engineer' 'Data Developer'\n",
            " 'Principal Data Scientist' 'Data Science Lead' 'Staff Data Analyst'\n",
            " 'Data Infrastructure Engineer' 'Machine Learning Software Engineer'\n",
            " 'Machine Learning Operations Engineer' 'AI Scientist'\n",
            " 'Head of Machine Learning' 'Applied Data Scientist' 'AI Programmer'\n",
            " 'Data Operations Analyst' 'Applied Machine Learning Scientist'\n",
            " 'Data Analytics Lead' 'Data Operations Engineer'\n",
            " 'Machine Learning Manager' 'Lead Data Scientist'\n",
            " 'Principal Machine Learning Engineer' 'Principal Data Engineer'\n",
            " 'Power BI Developer' 'Head of Data Science'\n",
            " 'Staff Machine Learning Engineer' 'Staff Data Scientist'\n",
            " 'Consultant Data Engineer' 'Machine Learning Specialist'\n",
            " 'Business Intelligence Data Analyst' 'Data Operations Manager'\n",
            " 'Lead Machine Learning Engineer' 'Managing Director Data Science'\n",
            " 'Data Modeller' 'Finance Data Analyst' 'Software Data Engineer'\n",
            " 'Machine Learning Research Engineer' 'Compliance Data Analyst'\n",
            " 'Data Operations Specialist' 'Cloud Data Engineer'\n",
            " 'Analytics Engineering Manager' 'NLP Engineer' 'AWS Data Architect'\n",
            " 'Product Data Analyst' 'Machine Learning Developer'\n",
            " 'Data Visualization Analyst' 'Autonomous Vehicle Technician'\n",
            " 'Sales Data Analyst' 'Applied Machine Learning Engineer' 'ETL Engineer'\n",
            " 'Big Data Engineer' 'Lead Data Analyst' 'BI Data Engineer'\n",
            " 'Cloud Database Engineer' 'Deep Learning Researcher'\n",
            " 'Data Analytics Specialist' 'Big Data Architect'\n",
            " 'Computer Vision Software Engineer' 'Marketing Data Engineer'\n",
            " 'Manager Data Management' 'Data Analytics Consultant'\n",
            " 'Data Science Tech Lead' 'Data Scientist Lead' 'Marketing Data Analyst'\n",
            " 'Data Analytics Engineer' 'Cloud Data Architect' 'Lead Data Engineer'\n",
            " 'Principal Data Analyst']\n",
            "\n",
            "The no.of unique values in JOB_CATEGORY is 10 which are:\n",
            " ['Data Engineering' 'Data Architecture and Modeling'\n",
            " 'Data Science and Research' 'Machine Learning and AI' 'Data Analysis'\n",
            " 'Leadership and Management' 'BI and Visualization'\n",
            " 'Data Quality and Operations' 'Data Management and Strategy'\n",
            " 'Cloud and Database']\n",
            "\n",
            "The no.of unique values in SALARY_CURRENCY is 11 which are:\n",
            " ['EUR' 'USD' 'GBP' 'CAD' 'AUD' 'PLN' 'BRL' 'TRY' 'CHF' 'SGD' 'DKK']\n",
            "\n",
            "The no.of unique values in EMPLOYEE_RESIDENCE is 83 which are:\n",
            " ['Germany' 'United States' 'United Kingdom' 'Canada' 'Spain' 'Ireland'\n",
            " 'South Africa' 'Poland' 'France' 'Czech Republic' 'Netherlands'\n",
            " 'Pakistan' 'Ukraine' 'Lithuania' 'Portugal' 'Australia' 'Uganda'\n",
            " 'Colombia' 'Italy' 'Slovenia' 'Romania' 'Greece' 'India' 'Latvia'\n",
            " 'Mauritius' 'Armenia' 'Croatia' 'Thailand' 'South Korea' 'Estonia'\n",
            " 'Turkey' 'Philippines' 'Brazil' 'Qatar' 'Russia' 'Kenya' 'Tunisia'\n",
            " 'Ghana' 'Belgium' 'Switzerland' 'Andorra' 'Ecuador' 'Peru' 'Mexico'\n",
            " 'Moldova' 'Nigeria' 'Saudi Arabia' 'Argentina' 'Egypt' 'Uzbekistan'\n",
            " 'Georgia' 'Central African Republic' 'Finland' 'Austria' 'Singapore'\n",
            " 'Sweden' 'Kuwait' 'Cyprus' 'Bosnia and Herzegovina' 'Iran'\n",
            " 'American Samoa' 'China' 'Costa Rica' 'Chile' 'Puerto Rico' 'Denmark'\n",
            " 'Bolivia' 'Dominican Republic' 'Indonesia' 'United Arab Emirates'\n",
            " 'Malaysia' 'Japan' 'Honduras' 'Algeria' 'Vietnam' 'Iraq' 'Bulgaria'\n",
            " 'Jersey' 'Serbia' 'New Zealand' 'Hong Kong' 'Luxembourg' 'Malta']\n",
            "\n",
            "The no.of unique values in EXPERIENCE_LEVEL is 4 which are:\n",
            " ['Mid-level' 'Senior' 'Executive' 'Entry-level']\n",
            "\n",
            "The no.of unique values in EMPLOYMENT_TYPE is 4 which are:\n",
            " ['Full-time' 'Part-time' 'Contract' 'Freelance']\n",
            "\n",
            "The no.of unique values in WORK_SETTING is 3 which are:\n",
            " ['Hybrid' 'In-person' 'Remote']\n",
            "\n",
            "The no.of unique values in COMPANY_LOCATION is 70 which are:\n",
            " ['Germany' 'United States' 'United Kingdom' 'Canada' 'Spain' 'Ireland'\n",
            " 'South Africa' 'Poland' 'France' 'Netherlands' 'Luxembourg' 'Lithuania'\n",
            " 'Portugal' 'Gibraltar' 'Australia' 'Colombia' 'Ukraine' 'Slovenia'\n",
            " 'Romania' 'Greece' 'India' 'Latvia' 'Mauritius' 'Russia' 'Italy'\n",
            " 'South Korea' 'Estonia' 'Czech Republic' 'Brazil' 'Qatar' 'Kenya'\n",
            " 'Denmark' 'Ghana' 'Sweden' 'Turkey' 'Switzerland' 'Andorra' 'Ecuador'\n",
            " 'Mexico' 'Israel' 'Nigeria' 'Saudi Arabia' 'Argentina' 'Japan'\n",
            " 'Central African Republic' 'Finland' 'Singapore' 'Croatia' 'Armenia'\n",
            " 'Bosnia and Herzegovina' 'Pakistan' 'Iran' 'Bahamas' 'Austria'\n",
            " 'Puerto Rico' 'American Samoa' 'Thailand' 'Philippines' 'Belgium' 'Egypt'\n",
            " 'Indonesia' 'United Arab Emirates' 'Malaysia' 'Honduras' 'Algeria' 'Iraq'\n",
            " 'China' 'New Zealand' 'Moldova' 'Malta']\n",
            "\n",
            "The no.of unique values in COMPANY_SIZE is 3 which are:\n",
            " ['L' 'M' 'S']\n",
            "\n"
          ]
        }
      ]
    },
    {
      "cell_type": "code",
      "source": [
        "for i in cat.columns:\n",
        "    print(f\"The most frequent value in {i.upper()} is:  {cat[i].mode()[0]} \\n\")"
      ],
      "metadata": {
        "execution": {
          "iopub.status.busy": "2024-02-13T08:21:16.337572Z",
          "iopub.execute_input": "2024-02-13T08:21:16.337949Z",
          "iopub.status.idle": "2024-02-13T08:21:16.349966Z",
          "shell.execute_reply.started": "2024-02-13T08:21:16.337919Z",
          "shell.execute_reply": "2024-02-13T08:21:16.348983Z"
        },
        "trusted": true,
        "colab": {
          "base_uri": "https://localhost:8080/"
        },
        "id": "q-ojWT-lBYq5",
        "outputId": "aeaaeb07-72e9-4165-bff8-54c700ca8013"
      },
      "execution_count": 15,
      "outputs": [
        {
          "output_type": "stream",
          "name": "stdout",
          "text": [
            "The most frequent value in JOB_TITLE is:  Data Engineer \n",
            "\n",
            "The most frequent value in JOB_CATEGORY is:  Data Science and Research \n",
            "\n",
            "The most frequent value in SALARY_CURRENCY is:  USD \n",
            "\n",
            "The most frequent value in EMPLOYEE_RESIDENCE is:  United States \n",
            "\n",
            "The most frequent value in EXPERIENCE_LEVEL is:  Senior \n",
            "\n",
            "The most frequent value in EMPLOYMENT_TYPE is:  Full-time \n",
            "\n",
            "The most frequent value in WORK_SETTING is:  In-person \n",
            "\n",
            "The most frequent value in COMPANY_LOCATION is:  United States \n",
            "\n",
            "The most frequent value in COMPANY_SIZE is:  M \n",
            "\n"
          ]
        }
      ]
    },
    {
      "cell_type": "code",
      "source": [
        "for i in num.drop('work_year',axis=1).columns:\n",
        "    print(f\"The skewness of {i.upper()} is: {num[i].skew()}\")\n",
        "    print(f\"The mean of {i.upper()} is: {num[i].mean()}\")\n",
        "    print(f\"The median of {i.upper()} is: {num[i].median()}\")\n",
        "    print(f\"The median of {i.upper()} is: {num[i].mode()[0]}\")\n",
        "    print(\"\\n\")"
      ],
      "metadata": {
        "execution": {
          "iopub.status.busy": "2024-02-13T08:23:18.81902Z",
          "iopub.execute_input": "2024-02-13T08:23:18.819722Z",
          "iopub.status.idle": "2024-02-13T08:23:18.831705Z",
          "shell.execute_reply.started": "2024-02-13T08:23:18.819688Z",
          "shell.execute_reply": "2024-02-13T08:23:18.830397Z"
        },
        "trusted": true,
        "colab": {
          "base_uri": "https://localhost:8080/"
        },
        "id": "EEOxcuAuBYq6",
        "outputId": "fea0ec1e-e77c-4c48-f726-44fb42169ddd"
      },
      "execution_count": 16,
      "outputs": [
        {
          "output_type": "stream",
          "name": "stdout",
          "text": [
            "The skewness of SALARY is: 0.579148786779734\n",
            "The mean of SALARY is: 149927.98129342598\n",
            "The median of SALARY is: 143860.0\n",
            "The median of SALARY is: 150000\n",
            "\n",
            "\n",
            "The skewness of SALARY_IN_USD is: 0.6212912531604922\n",
            "The mean of SALARY_IN_USD is: 150299.4955638696\n",
            "The median of SALARY_IN_USD is: 143000.0\n",
            "The median of SALARY_IN_USD is: 150000\n",
            "\n",
            "\n"
          ]
        }
      ]
    },
    {
      "cell_type": "code",
      "source": [
        "sns.countplot(x='work_year',data=df)\n",
        "plt.show()"
      ],
      "metadata": {
        "execution": {
          "iopub.status.busy": "2024-02-13T08:24:34.72898Z",
          "iopub.execute_input": "2024-02-13T08:24:34.729641Z",
          "iopub.status.idle": "2024-02-13T08:24:34.927717Z",
          "shell.execute_reply.started": "2024-02-13T08:24:34.729595Z",
          "shell.execute_reply": "2024-02-13T08:24:34.926623Z"
        },
        "trusted": true,
        "colab": {
          "base_uri": "https://localhost:8080/",
          "height": 465
        },
        "id": "eJaw31sTBYq6",
        "outputId": "f8312385-d032-46c7-90d6-bd86dfc26871"
      },
      "execution_count": 17,
      "outputs": [
        {
          "output_type": "display_data",
          "data": {
            "text/plain": [
              "<Figure size 1000x500 with 1 Axes>"
            ],
            "image/png": "[encoded data removed]"
          },
          "metadata": {}
        }
      ]
    },
    {
      "cell_type": "code",
      "source": [
        "df['job_title'].value_counts()"
      ],
      "metadata": {
        "execution": {
          "iopub.status.busy": "2024-02-13T08:25:51.520451Z",
          "iopub.execute_input": "2024-02-13T08:25:51.521624Z",
          "iopub.status.idle": "2024-02-13T08:25:51.531608Z",
          "shell.execute_reply.started": "2024-02-13T08:25:51.521577Z",
          "shell.execute_reply": "2024-02-13T08:25:51.530729Z"
        },
        "trusted": true,
        "colab": {
          "base_uri": "https://localhost:8080/"
        },
        "id": "jUiVNERCBYq6",
        "outputId": "98c2ce77-f63b-4233-e3a8-ceed35f0e574"
      },
      "execution_count": 18,
      "outputs": [
        {
          "output_type": "execute_result",
          "data": {
            "text/plain": [
              "Data Engineer                     2195\n",
              "Data Scientist                    1989\n",
              "Data Analyst                      1388\n",
              "Machine Learning Engineer          991\n",
              "Applied Scientist                  272\n",
              "                                  ... \n",
              "Consultant Data Engineer             1\n",
              "Sales Data Analyst                   1\n",
              "Managing Director Data Science       1\n",
              "AWS Data Architect                   1\n",
              "Deep Learning Researcher             1\n",
              "Name: job_title, Length: 125, dtype: int64"
            ]
          },
          "metadata": {},
          "execution_count": 18
        }
      ]
    },
    {
      "cell_type": "code",
      "source": [
        "df['job_category'].value_counts().plot(kind='pie',autopct='%0.2f%%')\n",
        "plt.show()"
      ],
      "metadata": {
        "execution": {
          "iopub.status.busy": "2024-02-13T09:35:54.796886Z",
          "iopub.execute_input": "2024-02-13T09:35:54.797257Z",
          "iopub.status.idle": "2024-02-13T09:35:54.988306Z",
          "shell.execute_reply.started": "2024-02-13T09:35:54.79723Z",
          "shell.execute_reply": "2024-02-13T09:35:54.987431Z"
        },
        "trusted": true,
        "id": "SKtBCUnGBYq6"
      },
      "execution_count": null,
      "outputs": []
    },
    {
      "cell_type": "code",
      "source": [
        "plt.subplot(1,2,1)\n",
        "sns.countplot(x='job_category',data=df)\n",
        "plt.xticks(rotation=90)\n",
        "plt.subplot(1,2,2)\n",
        "df['job_category'].value_counts().plot(kind='pie',autopct='%0.2f%%')\n",
        "\n",
        "plt.tight_layout()\n",
        "plt.show()"
      ],
      "metadata": {
        "execution": {
          "iopub.status.busy": "2024-02-13T09:36:56.034225Z",
          "iopub.execute_input": "2024-02-13T09:36:56.034643Z",
          "iopub.status.idle": "2024-02-13T09:36:56.442945Z",
          "shell.execute_reply.started": "2024-02-13T09:36:56.034612Z",
          "shell.execute_reply": "2024-02-13T09:36:56.442035Z"
        },
        "trusted": true,
        "id": "h-Zei0ZPBYq6"
      },
      "execution_count": null,
      "outputs": []
    },
    {
      "cell_type": "code",
      "source": [
        "df.head()"
      ],
      "metadata": {
        "execution": {
          "iopub.status.busy": "2024-02-13T08:27:31.536177Z",
          "iopub.execute_input": "2024-02-13T08:27:31.536546Z",
          "iopub.status.idle": "2024-02-13T08:27:31.551911Z",
          "shell.execute_reply.started": "2024-02-13T08:27:31.536505Z",
          "shell.execute_reply": "2024-02-13T08:27:31.550753Z"
        },
        "trusted": true,
        "id": "wAGmoBZmBYq7"
      },
      "execution_count": null,
      "outputs": []
    },
    {
      "cell_type": "code",
      "source": [],
      "metadata": {
        "execution": {
          "iopub.status.busy": "2024-02-13T08:27:57.571438Z",
          "iopub.execute_input": "2024-02-13T08:27:57.57185Z",
          "iopub.status.idle": "2024-02-13T08:27:57.576658Z",
          "shell.execute_reply.started": "2024-02-13T08:27:57.571818Z",
          "shell.execute_reply": "2024-02-13T08:27:57.575506Z"
        },
        "trusted": true,
        "id": "OC_uLFFuBYq7"
      },
      "execution_count": null,
      "outputs": []
    },
    {
      "cell_type": "code",
      "source": [
        "# lets find out the number of job titles under job categories\n",
        "\n",
        "df.groupby('job_category')['job_title'].count().plot(kind='pie',autopct='%0.2f%%')\n",
        "plt.show()"
      ],
      "metadata": {
        "execution": {
          "iopub.status.busy": "2024-02-13T09:38:56.799714Z",
          "iopub.execute_input": "2024-02-13T09:38:56.800132Z",
          "iopub.status.idle": "2024-02-13T09:38:56.987687Z",
          "shell.execute_reply.started": "2024-02-13T09:38:56.800103Z",
          "shell.execute_reply": "2024-02-13T09:38:56.986828Z"
        },
        "trusted": true,
        "id": "jXbsATqaBYq7"
      },
      "execution_count": null,
      "outputs": []
    },
    {
      "cell_type": "code",
      "source": [
        "# we will extract the number of job titles under job_category"
      ],
      "metadata": {
        "execution": {
          "iopub.status.busy": "2024-02-13T08:30:28.432558Z",
          "iopub.execute_input": "2024-02-13T08:30:28.432919Z",
          "iopub.status.idle": "2024-02-13T08:30:28.437191Z",
          "shell.execute_reply.started": "2024-02-13T08:30:28.432892Z",
          "shell.execute_reply": "2024-02-13T08:30:28.436073Z"
        },
        "trusted": true,
        "id": "dhpjGqVuBYq7"
      },
      "execution_count": null,
      "outputs": []
    },
    {
      "cell_type": "code",
      "source": [
        "def job_title_extractor(category):\n",
        "    title=[]\n",
        "    a = df[df['job_category']==category]['job_title'].unique()\n",
        "    title.append(a)\n",
        "    return title[0]"
      ],
      "metadata": {
        "execution": {
          "iopub.status.busy": "2024-02-13T08:33:24.017181Z",
          "iopub.execute_input": "2024-02-13T08:33:24.017572Z",
          "iopub.status.idle": "2024-02-13T08:33:24.025733Z",
          "shell.execute_reply.started": "2024-02-13T08:33:24.017541Z",
          "shell.execute_reply": "2024-02-13T08:33:24.024513Z"
        },
        "trusted": true,
        "id": "0CCHZJrQBYq7"
      },
      "execution_count": null,
      "outputs": []
    },
    {
      "cell_type": "code",
      "source": [
        "for i in df['job_category'].unique():\n",
        "    print(f\"The job titles in {i.upper()} category are: {len(job_title_extractor(i))}, which are:\\n {job_title_extractor(i)}\\n\")"
      ],
      "metadata": {
        "execution": {
          "iopub.status.busy": "2024-02-13T09:42:00.362314Z",
          "iopub.execute_input": "2024-02-13T09:42:00.362727Z",
          "iopub.status.idle": "2024-02-13T09:42:00.405765Z",
          "shell.execute_reply.started": "2024-02-13T09:42:00.362691Z",
          "shell.execute_reply": "2024-02-13T09:42:00.404489Z"
        },
        "trusted": true,
        "id": "VcKCxh21BYq7"
      },
      "execution_count": null,
      "outputs": []
    },
    {
      "cell_type": "code",
      "source": [
        "sns.countplot(x='salary_currency',data=df)\n",
        "plt.show()"
      ],
      "metadata": {
        "execution": {
          "iopub.status.busy": "2024-02-13T08:37:01.837204Z",
          "iopub.execute_input": "2024-02-13T08:37:01.837591Z",
          "iopub.status.idle": "2024-02-13T08:37:02.040592Z",
          "shell.execute_reply.started": "2024-02-13T08:37:01.837563Z",
          "shell.execute_reply": "2024-02-13T08:37:02.039515Z"
        },
        "trusted": true,
        "id": "n3zq7hVtBYq7"
      },
      "execution_count": null,
      "outputs": []
    },
    {
      "cell_type": "code",
      "source": [
        "plt.subplot(1,2,1)\n",
        "sns.kdeplot(df['salary'])\n",
        "plt.title('salary')\n",
        "plt.grid()\n",
        "plt.subplot(1,2,2)\n",
        "sns.kdeplot(df['salary_in_usd'])\n",
        "plt.title('salary_in_USD')\n",
        "plt.grid()\n",
        "\n",
        "plt.tight_layout()\n",
        "plt.show()\n"
      ],
      "metadata": {
        "execution": {
          "iopub.status.busy": "2024-02-13T08:39:23.309384Z",
          "iopub.execute_input": "2024-02-13T08:39:23.30978Z",
          "iopub.status.idle": "2024-02-13T08:39:23.979636Z",
          "shell.execute_reply.started": "2024-02-13T08:39:23.30975Z",
          "shell.execute_reply": "2024-02-13T08:39:23.978831Z"
        },
        "trusted": true,
        "id": "MhZkthwoBYq8"
      },
      "execution_count": null,
      "outputs": []
    },
    {
      "cell_type": "code",
      "source": [
        "# since there is salary magnitude difference, we will extract the conversion factor"
      ],
      "metadata": {
        "execution": {
          "iopub.status.busy": "2024-02-13T08:40:12.648066Z",
          "iopub.execute_input": "2024-02-13T08:40:12.648448Z",
          "iopub.status.idle": "2024-02-13T08:40:12.653364Z",
          "shell.execute_reply.started": "2024-02-13T08:40:12.648417Z",
          "shell.execute_reply": "2024-02-13T08:40:12.652218Z"
        },
        "trusted": true,
        "id": "RqQwz9CcBYq8"
      },
      "execution_count": null,
      "outputs": []
    },
    {
      "cell_type": "code",
      "source": [
        "usd_multiplier = df['salary_in_usd']/df['salary']"
      ],
      "metadata": {
        "execution": {
          "iopub.status.busy": "2024-02-13T08:41:44.7804Z",
          "iopub.execute_input": "2024-02-13T08:41:44.780749Z",
          "iopub.status.idle": "2024-02-13T08:41:44.790351Z",
          "shell.execute_reply.started": "2024-02-13T08:41:44.780723Z",
          "shell.execute_reply": "2024-02-13T08:41:44.789068Z"
        },
        "trusted": true,
        "id": "L0VpDL3BBYq8"
      },
      "execution_count": null,
      "outputs": []
    },
    {
      "cell_type": "code",
      "source": [
        "df['salary_mag_multiplier'] = pd.Series(usd_multiplier)\n",
        "df.head()"
      ],
      "metadata": {
        "execution": {
          "iopub.status.busy": "2024-02-13T08:42:22.318338Z",
          "iopub.execute_input": "2024-02-13T08:42:22.318743Z",
          "iopub.status.idle": "2024-02-13T08:42:22.337418Z",
          "shell.execute_reply.started": "2024-02-13T08:42:22.318703Z",
          "shell.execute_reply": "2024-02-13T08:42:22.336623Z"
        },
        "trusted": true,
        "id": "dumEUjkkBYq8"
      },
      "execution_count": null,
      "outputs": []
    },
    {
      "cell_type": "code",
      "source": [
        "df['employee_residence'].nunique()"
      ],
      "metadata": {
        "execution": {
          "iopub.status.busy": "2024-02-13T08:44:14.562792Z",
          "iopub.execute_input": "2024-02-13T08:44:14.5632Z",
          "iopub.status.idle": "2024-02-13T08:44:14.572381Z",
          "shell.execute_reply.started": "2024-02-13T08:44:14.563168Z",
          "shell.execute_reply": "2024-02-13T08:44:14.571257Z"
        },
        "trusted": true,
        "id": "NgQeCQFWBYq8"
      },
      "execution_count": null,
      "outputs": []
    },
    {
      "cell_type": "code",
      "source": [
        "df['company_location'].unique()"
      ],
      "metadata": {
        "execution": {
          "iopub.status.busy": "2024-02-13T08:47:30.812256Z",
          "iopub.execute_input": "2024-02-13T08:47:30.81264Z",
          "iopub.status.idle": "2024-02-13T08:47:30.820711Z",
          "shell.execute_reply.started": "2024-02-13T08:47:30.812604Z",
          "shell.execute_reply": "2024-02-13T08:47:30.819591Z"
        },
        "trusted": true,
        "id": "X9tJKHUjBYq8"
      },
      "execution_count": null,
      "outputs": []
    },
    {
      "cell_type": "code",
      "source": [
        "location=['Germany', 'United States', 'United Kingdom', 'Canada', 'Spain',\n",
        "       'Ireland', 'South Africa', 'Poland', 'France', 'Netherlands',\n",
        "       'Luxembourg', 'Lithuania', 'Portugal', 'Gibraltar', 'Australia',\n",
        "       'Colombia', 'Ukraine', 'Slovenia', 'Romania', 'Greece', 'India',\n",
        "       'Latvia', 'Mauritius', 'Russia', 'Italy', 'South Korea', 'Estonia',\n",
        "       'Czech Republic', 'Brazil', 'Qatar', 'Kenya', 'Denmark', 'Ghana',\n",
        "       'Sweden', 'Turkey', 'Switzerland', 'Andorra', 'Ecuador', 'Mexico',\n",
        "       'Israel', 'Nigeria', 'Saudi Arabia', 'Argentina', 'Japan',\n",
        "       'Central African Republic', 'Finland', 'Singapore', 'Croatia',\n",
        "       'Armenia', 'Bosnia and Herzegovina', 'Pakistan', 'Iran', 'Bahamas',\n",
        "       'Austria', 'Puerto Rico', 'American Samoa', 'Thailand',\n",
        "       'Philippines', 'Belgium', 'Egypt', 'Indonesia',\n",
        "       'United Arab Emirates', 'Malaysia', 'Honduras', 'Algeria', 'Iraq',\n",
        "       'China', 'New Zealand', 'Moldova', 'Malta']"
      ],
      "metadata": {
        "execution": {
          "iopub.status.busy": "2024-02-13T08:47:48.152182Z",
          "iopub.execute_input": "2024-02-13T08:47:48.152547Z",
          "iopub.status.idle": "2024-02-13T08:47:48.159917Z",
          "shell.execute_reply.started": "2024-02-13T08:47:48.152505Z",
          "shell.execute_reply": "2024-02-13T08:47:48.158591Z"
        },
        "trusted": true,
        "id": "tJahwDICBYq8"
      },
      "execution_count": null,
      "outputs": []
    },
    {
      "cell_type": "markdown",
      "source": [
        "for i in location:\n",
        "    if df[((df['company_location']==i) & (df['employee_residence']==i)).any(axis=1)]:\n",
        "        print(\"Resident employee\")\n",
        "    else:\n",
        "        print(\"Overseas employee\")"
      ],
      "metadata": {
        "execution": {
          "iopub.status.busy": "2024-02-13T08:50:07.622439Z",
          "iopub.execute_input": "2024-02-13T08:50:07.622844Z",
          "iopub.status.idle": "2024-02-13T08:50:07.66403Z",
          "shell.execute_reply.started": "2024-02-13T08:50:07.622814Z",
          "shell.execute_reply": "2024-02-13T08:50:07.662511Z"
        },
        "id": "GjFAijjFBYq9"
      }
    },
    {
      "cell_type": "code",
      "source": [
        "type_of_employee=[]\n",
        "for i,j in list(zip(df['company_location'],df['employee_residence'])):\n",
        "    if i==j:\n",
        "         type_of_employee.append(\"resident employee\")\n",
        "    else:\n",
        "         type_of_employee.append(\"overseas employee\")\n",
        "\n",
        ""
      ],
      "metadata": {
        "execution": {
          "iopub.status.busy": "2024-02-13T08:59:45.240711Z",
          "iopub.execute_input": "2024-02-13T08:59:45.241086Z",
          "iopub.status.idle": "2024-02-13T08:59:45.252286Z",
          "shell.execute_reply.started": "2024-02-13T08:59:45.241057Z",
          "shell.execute_reply": "2024-02-13T08:59:45.251032Z"
        },
        "trusted": true,
        "id": "HjL7MMh8BYq-"
      },
      "execution_count": null,
      "outputs": []
    },
    {
      "cell_type": "code",
      "source": [
        "sns.countplot(x=type_of_employee)\n",
        "plt.show()"
      ],
      "metadata": {
        "execution": {
          "iopub.status.busy": "2024-02-13T09:00:12.397172Z",
          "iopub.execute_input": "2024-02-13T09:00:12.397675Z",
          "iopub.status.idle": "2024-02-13T09:00:12.550734Z",
          "shell.execute_reply.started": "2024-02-13T09:00:12.397628Z",
          "shell.execute_reply": "2024-02-13T09:00:12.549716Z"
        },
        "trusted": true,
        "id": "LPLHDPoKBYq-"
      },
      "execution_count": null,
      "outputs": []
    },
    {
      "cell_type": "code",
      "source": [
        "df['type_of_employee'] = pd.Series(type_of_employee)\n",
        "df.head()"
      ],
      "metadata": {
        "execution": {
          "iopub.status.busy": "2024-02-13T09:15:12.319877Z",
          "iopub.execute_input": "2024-02-13T09:15:12.320259Z",
          "iopub.status.idle": "2024-02-13T09:15:12.33998Z",
          "shell.execute_reply.started": "2024-02-13T09:15:12.320228Z",
          "shell.execute_reply": "2024-02-13T09:15:12.338811Z"
        },
        "trusted": true,
        "id": "QxBTX-cFBYq-"
      },
      "execution_count": null,
      "outputs": []
    },
    {
      "cell_type": "code",
      "source": [
        "sns.countplot(x=df['experience_level'])\n",
        "plt.show()"
      ],
      "metadata": {
        "execution": {
          "iopub.status.busy": "2024-02-13T08:51:18.329952Z",
          "iopub.execute_input": "2024-02-13T08:51:18.330301Z",
          "iopub.status.idle": "2024-02-13T08:51:18.492028Z",
          "shell.execute_reply.started": "2024-02-13T08:51:18.330274Z",
          "shell.execute_reply": "2024-02-13T08:51:18.491199Z"
        },
        "trusted": true,
        "id": "BsFNL1JmBYq-"
      },
      "execution_count": null,
      "outputs": []
    },
    {
      "cell_type": "code",
      "source": [
        "sns.countplot(x=df['employment_type'])\n",
        "plt.show()"
      ],
      "metadata": {
        "execution": {
          "iopub.status.busy": "2024-02-13T08:51:41.448068Z",
          "iopub.execute_input": "2024-02-13T08:51:41.448419Z",
          "iopub.status.idle": "2024-02-13T08:51:41.599097Z",
          "shell.execute_reply.started": "2024-02-13T08:51:41.448393Z",
          "shell.execute_reply": "2024-02-13T08:51:41.598319Z"
        },
        "trusted": true,
        "id": "uupkKbwuBYq-"
      },
      "execution_count": null,
      "outputs": []
    },
    {
      "cell_type": "code",
      "source": [
        "sns.countplot(x=df['work_setting'])\n",
        "plt.show()"
      ],
      "metadata": {
        "execution": {
          "iopub.status.busy": "2024-02-13T08:52:14.021602Z",
          "iopub.execute_input": "2024-02-13T08:52:14.022082Z",
          "iopub.status.idle": "2024-02-13T08:52:14.183196Z",
          "shell.execute_reply.started": "2024-02-13T08:52:14.022052Z",
          "shell.execute_reply": "2024-02-13T08:52:14.182086Z"
        },
        "trusted": true,
        "id": "klUZH2J6BYq-"
      },
      "execution_count": null,
      "outputs": []
    },
    {
      "cell_type": "code",
      "source": [
        "sns.countplot(x=df['company_size'])\n",
        "plt.show()"
      ],
      "metadata": {
        "execution": {
          "iopub.status.busy": "2024-02-13T09:17:07.942437Z",
          "iopub.execute_input": "2024-02-13T09:17:07.943064Z",
          "iopub.status.idle": "2024-02-13T09:17:08.115618Z",
          "shell.execute_reply.started": "2024-02-13T09:17:07.943027Z",
          "shell.execute_reply": "2024-02-13T09:17:08.114596Z"
        },
        "trusted": true,
        "id": "RtCxviNOBYq_"
      },
      "execution_count": null,
      "outputs": []
    },
    {
      "cell_type": "code",
      "source": [
        "# year-wise average salary\n",
        "df.groupby('work_year')['salary'].mean().plot(kind='line')\n",
        "plt.grid()\n",
        "plt.show()"
      ],
      "metadata": {
        "execution": {
          "iopub.status.busy": "2024-02-13T09:19:04.130136Z",
          "iopub.execute_input": "2024-02-13T09:19:04.130665Z",
          "iopub.status.idle": "2024-02-13T09:19:04.364598Z",
          "shell.execute_reply.started": "2024-02-13T09:19:04.13062Z",
          "shell.execute_reply": "2024-02-13T09:19:04.363352Z"
        },
        "trusted": true,
        "id": "sPDZRrYLBYrD"
      },
      "execution_count": null,
      "outputs": []
    },
    {
      "cell_type": "code",
      "source": [
        "# job title wise salary\n",
        "df.groupby('job_title')['salary'].mean().sort_values(ascending=False)\n"
      ],
      "metadata": {
        "execution": {
          "iopub.status.busy": "2024-02-13T09:22:21.729715Z",
          "iopub.execute_input": "2024-02-13T09:22:21.730271Z",
          "iopub.status.idle": "2024-02-13T09:22:21.740774Z",
          "shell.execute_reply.started": "2024-02-13T09:22:21.730227Z",
          "shell.execute_reply": "2024-02-13T09:22:21.739469Z"
        },
        "trusted": true,
        "id": "OIuPRKYpBYrD"
      },
      "execution_count": null,
      "outputs": []
    },
    {
      "cell_type": "code",
      "source": [
        "# job title wise salary_usd\n",
        "df.groupby('job_title')['salary_in_usd'].mean().sort_values(ascending=False)\n"
      ],
      "metadata": {
        "execution": {
          "iopub.status.busy": "2024-02-13T09:23:07.732847Z",
          "iopub.execute_input": "2024-02-13T09:23:07.733192Z",
          "iopub.status.idle": "2024-02-13T09:23:07.74471Z",
          "shell.execute_reply.started": "2024-02-13T09:23:07.733168Z",
          "shell.execute_reply": "2024-02-13T09:23:07.743599Z"
        },
        "trusted": true,
        "id": "qRrzPTu5BYrD"
      },
      "execution_count": null,
      "outputs": []
    },
    {
      "cell_type": "code",
      "source": [
        "df.groupby('job_title')[['salary','salary_in_usd']].mean()"
      ],
      "metadata": {
        "execution": {
          "iopub.status.busy": "2024-02-13T09:23:54.957688Z",
          "iopub.execute_input": "2024-02-13T09:23:54.958047Z",
          "iopub.status.idle": "2024-02-13T09:23:54.973492Z",
          "shell.execute_reply.started": "2024-02-13T09:23:54.958021Z",
          "shell.execute_reply": "2024-02-13T09:23:54.972366Z"
        },
        "trusted": true,
        "id": "LXe04UwkBYrE"
      },
      "execution_count": null,
      "outputs": []
    },
    {
      "cell_type": "code",
      "source": [
        "# experience wise salary\n",
        "\n",
        "df.groupby('experience_level')[['salary','salary_in_usd']].mean().plot(kind='bar')\n",
        "plt.show()"
      ],
      "metadata": {
        "execution": {
          "iopub.status.busy": "2024-02-13T09:25:26.08323Z",
          "iopub.execute_input": "2024-02-13T09:25:26.083628Z",
          "iopub.status.idle": "2024-02-13T09:25:26.285232Z",
          "shell.execute_reply.started": "2024-02-13T09:25:26.083596Z",
          "shell.execute_reply": "2024-02-13T09:25:26.284144Z"
        },
        "trusted": true,
        "id": "g1-zyQt8BYrE"
      },
      "execution_count": null,
      "outputs": []
    },
    {
      "cell_type": "code",
      "source": [
        "# employment_type wise salary\n",
        "\n",
        "df.groupby('employment_type')[['salary','salary_in_usd']].mean().plot(kind='bar')\n",
        "plt.show()"
      ],
      "metadata": {
        "execution": {
          "iopub.status.busy": "2024-02-13T09:26:32.812231Z",
          "iopub.execute_input": "2024-02-13T09:26:32.812643Z",
          "iopub.status.idle": "2024-02-13T09:26:33.018403Z",
          "shell.execute_reply.started": "2024-02-13T09:26:32.812611Z",
          "shell.execute_reply": "2024-02-13T09:26:33.01739Z"
        },
        "trusted": true,
        "id": "vaYZSvrnBYrE"
      },
      "execution_count": null,
      "outputs": []
    },
    {
      "cell_type": "code",
      "source": [
        "# work setting wise salary\n",
        "\n",
        "df.groupby('work_setting')[['salary','salary_in_usd']].mean().plot(kind='bar')\n",
        "plt.show()"
      ],
      "metadata": {
        "execution": {
          "iopub.status.busy": "2024-02-13T09:26:59.005365Z",
          "iopub.execute_input": "2024-02-13T09:26:59.005788Z",
          "iopub.status.idle": "2024-02-13T09:26:59.211136Z",
          "shell.execute_reply.started": "2024-02-13T09:26:59.005756Z",
          "shell.execute_reply": "2024-02-13T09:26:59.210337Z"
        },
        "trusted": true,
        "id": "Ipqsa-AQBYrE"
      },
      "execution_count": null,
      "outputs": []
    },
    {
      "cell_type": "code",
      "source": [
        "# company size wise salary\n",
        "\n",
        "df.groupby('company_size')[['salary','salary_in_usd']].mean().plot(kind='bar')\n",
        "plt.show()"
      ],
      "metadata": {
        "execution": {
          "iopub.status.busy": "2024-02-13T09:27:52.849617Z",
          "iopub.execute_input": "2024-02-13T09:27:52.850251Z",
          "iopub.status.idle": "2024-02-13T09:27:53.039811Z",
          "shell.execute_reply.started": "2024-02-13T09:27:52.850206Z",
          "shell.execute_reply": "2024-02-13T09:27:53.038524Z"
        },
        "trusted": true,
        "id": "tj-YjWvhBYrE"
      },
      "execution_count": null,
      "outputs": []
    },
    {
      "cell_type": "code",
      "source": [
        "sns.kdeplot(x=df['salary_mag_multiplier'])\n",
        "plt.grid()\n",
        "plt.show()"
      ],
      "metadata": {
        "execution": {
          "iopub.status.busy": "2024-02-13T09:28:40.046477Z",
          "iopub.execute_input": "2024-02-13T09:28:40.04688Z",
          "iopub.status.idle": "2024-02-13T09:28:40.372762Z",
          "shell.execute_reply.started": "2024-02-13T09:28:40.04685Z",
          "shell.execute_reply": "2024-02-13T09:28:40.37157Z"
        },
        "trusted": true,
        "id": "s1dzDBAwBYrE"
      },
      "execution_count": null,
      "outputs": []
    },
    {
      "cell_type": "code",
      "source": [
        "plt.subplot(1,2,1)\n",
        "df.groupby('type_of_employee')['salary'].mean().plot(kind='pie',autopct='%0.2f%%')\n",
        "plt.subplot(1,2,2)\n",
        "df.groupby('type_of_employee')['salary_in_usd'].mean().plot(kind='pie',autopct='%0.2f%%')\n",
        "plt.tight_layout()\n",
        "plt.show()"
      ],
      "metadata": {
        "execution": {
          "iopub.status.busy": "2024-02-13T09:32:37.226372Z",
          "iopub.execute_input": "2024-02-13T09:32:37.22693Z",
          "iopub.status.idle": "2024-02-13T09:32:37.440018Z",
          "shell.execute_reply.started": "2024-02-13T09:32:37.226897Z",
          "shell.execute_reply": "2024-02-13T09:32:37.438932Z"
        },
        "trusted": true,
        "id": "VGE8wixkBYrE"
      },
      "execution_count": null,
      "outputs": []
    },
    {
      "cell_type": "code",
      "source": [],
      "metadata": {
        "trusted": true,
        "id": "nNU4oeMMBYrF"
      },
      "execution_count": null,
      "outputs": []
    },
    {
      "cell_type": "code",
      "source": [],
      "metadata": {
        "id": "A1oqLD-gBYrF"
      },
      "execution_count": null,
      "outputs": []
    }
  ]
}